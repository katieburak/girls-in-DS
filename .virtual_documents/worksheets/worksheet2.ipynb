





# Load libraries
if (!require("pacman")) install.packages("pacman")
pacman::p_load(tidyverse, infer)


# Read in the data
pokemon <- read_csv("data/pokemon.csv")
head(pokemon)





### YOUR CODE HERE








### YOUR CODE HERE





### YOUR CODE HERE





### YOUR CODE HERE





### YOUR CODE HERE





### YOUR CODE HERE








### A CODE CHUNK TO PLAY AROUND WITH THE DATA IF YOU NEED IT





set.seed(930) # ensures that the sampling is reproducible
pokemon_encounters <- pokemon |> 
    drop_na(capture_rate, weight_kg) |> 
    uncount(weights = capture_rate) |> 
    slice(sample(1:n())) 

head(pokemon_encounters)





set.seed(930) # ensures that the sampling is reproducible

### YOUR CODE HERE

head(pokemon_sample_30)





### YOUR CODE HERE











set.seed(930) # ensures that the sampling is reproducible

### YOUR CODE HERE



