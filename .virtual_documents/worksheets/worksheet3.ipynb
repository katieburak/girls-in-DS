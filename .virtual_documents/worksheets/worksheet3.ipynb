


# Load libraries
library(tidyverse)
library(dplyr)
library(tidymodels)
set.seed(100)


mcdonalds <- read_csv("data/menu.csv")
head(mcdonalds, 5)
dim(mcdonalds)

















### YOUR CODE HERE





### YOUR CODE HERE








### YOUR CODE HERE





### YOUR CODE HERE





options(repr.plot.width = 10, repr.plot.height = 8)
### YOUR CODE HERE








### YOUR CODE HERE








### YOUR CODE HERE








### REPLACE ALL ...

# validation <- predict(..., mcdonalds_test) |>
#     bind_cols(...) |>
#     rename(Category_pred = ...)
# head(validation, 5)

# acc <- validation |>
#   metrics(truth = Category, estimate = ...) |>
#   filter(.metric == ...) |>
#   select(...) |>
#   pull()

# acc





### RUN THIS CELL

run_model <- function(k_value, train_data, test_data) {
      mcdonalds_recipe <- recipe(Category ~ ., data=train_data) |>
            step_scale(all_predictors()) |>
            step_center(all_predictors())

      knn_spec <- nearest_neighbor(weight_func = "rectangular", neighbors = k_value) |>
            set_engine("kknn") |>
            set_mode("classification")

      knn_fit <- workflow() |>
            add_recipe(mcdonalds_recipe) |>
            add_model(knn_spec) |>
            fit(data=mcdonalds_train)

      validation <- predict(knn_fit, mcdonalds_test) |>
            bind_cols(mcdonalds_test) |>
            rename(Category_pred = .pred_class)

      acc <- validation |>
            metrics(truth = Category, estimate = Category_pred) |>
            filter(.metric == "accuracy") |>
            select(.estimate) |>
            pull()
      
      acc

}


### TRY CHANGING THE FIRST ARGUMENT TO DIFFERENT NUMBERS

# run_model(..., mcdonalds_train, mcdonalds_test)








### Extracting column names from `mcdonalds_train`

# predictors_names <- colnames(mcdonalds_train)
# col_names <- predictors_names[predictors_names != "Category"]
# col_names <- as.list(col_names)


### Randomly generating 21 numeric values to be used as the nutritional information of the new recipe

# set.seed(100)
# mystery_item <-  data.frame(t(runif(21, min = 0, max = 20)))
# colnames(mystery_item ) <- col_names
# mystery_item 


# predict(knn_fit, new_data = ...)



