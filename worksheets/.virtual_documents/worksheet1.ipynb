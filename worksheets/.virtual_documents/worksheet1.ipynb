








# Load libraries

library(tidyverse)


# Read in the data

spotify <- read_csv("data/spotify_top_50_2023.csv")


spotify <- spotify |> 
                mutate(pop = if_else(str_detect(genres, "pop"), "yes", "no"))














### YOUR CODE HERE





### YOUR CODE HERE





### YOUR CODE HERE





### YOUR CODE HERE





### YOUR CODE HERE





### YOUR CODE HERE





### YOUR CODE HERE














### YOUR CODE HERE








### YOUR CODE HERE








### YOUR CODE HERE





### YOUR CODE HERE








### YOUR CODE HERE





### YOUR CODE HERE
