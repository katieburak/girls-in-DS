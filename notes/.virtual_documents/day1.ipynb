


























print("Hello, World!")





print("First this line is printed,")
print("and then this one.")














# you can use comments to document your code, or make R ignore some code without deleting it entirely
# print("this is a commented line that R will ignore. You won't see this text in the output!")

print("hello!") # you can also put comments at the end of a line of code





# print("This line is missing something."














3.2500





2
3
4








2.0 - 1.5


2 * 2


6/2








answer <- 3*2 + 4





answer








a <- 840
b <- 2 * a
c <- 12
d <- c * b
d














greeting <- toupper("Why, hello there!")
greeting








biggest <- max(4,7,23,1,5)
biggest











library(tidyverse)








# ?toupper
















































































insta <- read_csv('data/insta.csv')

insta <- insta |> select(-'Avg. Likes')

head(insta) # head function prints only the first 6 rows





insta <- suppressWarnings(insta |>
              mutate(Followers = as.numeric(str_replace(Followers, "M", ""))*1e6) |> 
              rename(Channel = channel_Info, eng_rate = 'Eng Rate') |> 
             mutate(
                    Posts = case_when(
                      str_detect(Posts , "K") ~ as.numeric(str_replace(Posts , "K", "")) * 1000,
                      str_detect(Posts, "M") ~ as.numeric(str_replace(Posts, "M", "")) * 1000000,
                      TRUE ~ as.numeric(Posts)  # If no suffix, just convert to numeric
                    )
                  ) |>               
             mutate(eng_rate = as.numeric(str_replace(eng_rate, "%", ""))) |> 
             mutate(Category = if_else(is.na(Category), "Not Available", Category))|> 
             mutate(Channel = if_else(is.na(Channel), "Not Available", Channel)))


insta








# Number of rows
nrow(insta)

# Number of columns
ncol(insta)

# Dimension 
dim(insta)























head(mutate(insta, eng_rate = eng_rate / 100)) # head function returns only the first 6 rows








head(select(insta, name)) # select `name` column 


head(select(insta, name, Followers)) # select `name` and `Followers` column 





# One condition
filter(insta, Followers > 150000000)





# Two conditions
filter(insta, Followers > 150000000 & Category == "Health, Sports & Fitness")


### Example ###

a = "Pancakes" # assigns the value "Pancakes" to "a" 

a == "Pancakes" # returns TRUE

a == "Waffles" # returns FALSE





filter(insta, Category == "photography" | Category == "fashion")








slice(insta, 60)





slice(insta, 60:70)














insta_piped <- insta |>
    mutate(insta, eng_rate = eng_rate / 100) |>
    filter(Followers > 150000000) |>
    select(name, Category, Followers, eng_rate)

head(insta_piped)

















insta |> 
    group_by(Category) |>
    summarize(avg_followers = mean(Followers)) |> 
    arrange(by = desc(avg_followers))





insta |> 
    group_by(Category) |>
    summarize(Count = n()) |> 
    arrange(by = desc(Count))





### YOUR CODE HERE


























# Inspect the data
head(insta)





ggplot(insta, aes(x = Posts))





ggplot(insta, aes(x = Posts)) +
    geom_histogram()


ggplot(insta, aes(x = Posts)) +
    geom_histogram(bins=50) + 
    theme(text = element_text(size = 26)) + # increase text size
    labs(x='Number of Posts', y='Count', title='Histogram of Posts') # rename axes and add title





# Set the default size for plot
options(repr.plot.width = 8, repr.plot.height = 10)
ggplot(insta, aes(x = Posts, fill = Channel)) +
    geom_histogram(bins=50) +
    facet_grid(rows = vars(Channel)) +
    theme(text = element_text(size = 26)) 





# Set the default size for plot
options(repr.plot.width = 10, repr.plot.height = 8)

ggplot(insta, aes(x = Posts, y = Followers)) +
    geom_point() +
    theme(text = element_text(size = 26)) # increase text size





insta_posts_10000 <- insta |>
                        filter(Posts>10000)

# Which of these accounts has the most followers?
insta_posts_10000$name[which.max(insta_posts_10000$Followers)]


options(repr.plot.width = 10, repr.plot.height = 8)

ggplot(insta_posts_10000, aes(x = Posts, y = Followers, color = Channel)) + # color by channel info
    geom_point(size=4) +
    theme(text = element_text(size = 26)) +
    geom_text(x = 45000, y = 221000000, label = "National Geographic", color = "red", size = 5) + # add text to plot
    labs(x='Number of Posts', y='Number of Followers', color='Channel Info', title='Scatterplot of Followers vs. Posts') # rename axes and add title





insta_cat <- insta |>
  group_by(Category) |>
  summarise(Total_Followers = sum(Followers))
insta_cat


ggplot(insta_cat, aes(x = Category, y = Total_Followers)) +
    geom_bar(stat = 'identity') +
    theme(text = element_text(size = 26))


ggplot(insta_cat, aes(x = Category, y = Total_Followers)) +
    geom_bar(stat = 'identity') +
    theme(text = element_text(size = 26))+
    coord_flip()


options(repr.plot.width = 12, repr.plot.height = 10)

# Reorder the levels of Category based on Total Followers

ggplot(insta_cat, aes(x = Total_Followers, y = reorder(Category, -Total_Followers))) +
    geom_bar(stat = 'identity', fill = "cornflowerblue") + 
    theme(text = element_text(size = 26)) + 
    labs(x = "Total Followers", y ="Category", title = "Barplot of Category by Total Followers ") # change labels and title


























diamond_plot <- ggplot(diamonds, aes(x = carat, y = price)) +
    geom_point() +
    xlab("Size (carat)") +
    ylab("Price (US dollars)")
diamond_plot


diamond_plot <- ggplot(diamonds, aes(x = carat, y = price)) +
    geom_point(alpha=0.2) + # alpha sets the transparency of points
    xlab("Size (carat)") +
    ylab("Price (US dollars)")
diamond_plot
