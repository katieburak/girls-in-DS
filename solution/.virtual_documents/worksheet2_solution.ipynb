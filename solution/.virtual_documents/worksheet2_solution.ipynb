





# Load libraries
if (!require("pacman")) install.packages("pacman")
pacman::p_load(tidyverse, infer)


# Read in the data
pokemon <- read_csv("data/pokemon.csv")
head(pokemon)





pokemon |> 
    ggplot(aes(x = height_m, y = weight_kg)) + 
       geom_point()








pokemon |> 
    ggplot(aes(x = height_m, y = weight_kg)) + 
        geom_point() + 
        labs(x = "Height (m)", 
             y = "Weight (kg)",
             title = "Correlation between Height and Weight of Pokemons"
        )





pokemon |> 
    ggplot(aes(x = height_m, y = weight_kg)) + 
        geom_point(size = 3, colour = 'salmon', alpha = 0.2) + 
        labs(x = "Height (m)", 
             y = "Weight (kg)",
             title = "Correlation between Height and Weight of Pokemons"
        ) + 
        theme_bw()





pokemon |> 
    ggplot(aes(x = height_m, y = weight_kg, colour=is_legendary)) + 
        geom_point(size = 3, alpha = 0.4) + 
        labs(x = "Height (m)", 
             y = "Weight (kg)",
             title = "Scatterplot of Weight vs. Height of Pokemons"
        ) + 
        theme_bw() + 
        # you can also customize the plot further
        scale_colour_manual("Is the Pokemon\nLegendary?", values=c("#F1BB7B", "#7294D4"))





pokemon |> 
    ggplot(aes(x = hp)) +
        geom_histogram(binwidth = 10, colour = "white") + 
        labs(
            x = "HP Points", 
            y = "Count",
            title = "Distribution of HP points of Pokemon"
        )





pokemon |> 
    summarise(
        Mean = mean(hp),
        SD = sd(hp)
    )








outlier_criteria = mean(pokemon$hp) + 5 * sd(pokemon$hp)


pokemon |> 
    filter(hp > outlier_criteria) |> 
    select(name, hp)





set.seed(930) # ensures that the sampling is reproducible
pokemon_encounters <- pokemon |> 
    drop_na(capture_rate, weight_kg) |> 
    uncount(weights = capture_rate) |> 
    slice(sample(1:n())) 

head(pokemon_encounters)





set.seed(930) # ensures that the sampling is reproducible
pokemon_sample_30 <- pokemon_encounters |> 
                        rep_sample_n(size = 30) 

head(pokemon_sample_30)





pokemon_sample_30 |> 
    ggplot(aes(x = weight_kg)) +
        geom_histogram(binwidth = 25, colour = "white") + 
        labs(
            x = "Weight (kg)", 
            y = "Count",
            title = "Distribution of the weight of a sample of 30 Pokemon"
        )+
        geom_vline(xintercept = mean(pokemon_sample_30$weight_kg), colour="red") + 
        geom_vline(xintercept = mean(pokemon_encounters$weight_kg), linetype="dotdash", colour="blue")











set.seed(930) # ensures that the sampling is reproducible
pokemon_encounters |> 
    rep_sample_n(size = 100) -> pokemon_sample_100

pokemon_sample_100 |> 
    ggplot(aes(x = weight_kg)) +
        geom_histogram(binwidth = 25, colour = "white") + 
        labs(
            x = "Weight (kg)", 
            y = "Count",
            title = "Distribution of the weight of a sample of 100 Pokemon"
        )+
        geom_vline(xintercept = mean(pokemon_sample_100$weight_kg), colour="red") + 
        geom_vline(xintercept = mean(pokemon_encounters$weight_kg), linetype="dotdash", colour="blue")



