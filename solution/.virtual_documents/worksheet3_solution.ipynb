


# Load libraries
library(tidyverse)
library(dplyr)
library(tidymodels)
set.seed(100)


mcdonalds <- read_csv("data/menu.csv")
head(mcdonalds, 5)
dim(mcdonalds)

















### YOUR CODE HERE
glimpse(mcdonalds)





### YOUR CODE HERE
mcdonalds <- mcdonalds |>
    select(-Item, -`Serving Size`) |>
    mutate(Category = as_factor(Category))
head(mcdonalds, 5)








### YOUR CODE HERE
mcdonalds_category <- mcdonalds |>
    group_by(Category) |>
    summarize(Count = n())
mcdonalds_category





### YOUR CODE HERE
mcdonalds_category <- mcdonalds_category |>
    mutate(Percentage = round(Count / sum(Count) * 100, 2))
mcdonalds_category





options(repr.plot.width = 10, repr.plot.height = 8)
### YOUR CODE HERE

ggplot(mcdonalds_category, aes(x = Count, y = reorder(Category, -Count))) +
    geom_bar(stat = 'identity', fill = "cornflowerblue") + 
    theme(text = element_text(size = 26)) +
    labs(
        x = "Count",                     
        y = "Category",                            
        title = "Barplot of Food Category"
    )








### YOUR CODE HERE
set.seed(2026)

mcdonalds_split <- initial_split(mcdonalds, prop=0.8)
mcdonalds_train <- training(mcdonalds_split)
mcdonalds_test <- testing(mcdonalds_split)

cat(paste0("Dimensions of the training set are: ", paste(dim(mcdonalds_train), collapse = " x ")), "\n")
cat(paste0("Dimensions of the testing set are: ", paste(dim(mcdonalds_test), collapse = " x ")))








### YOUR CODE HERE
mcdonalds_recipe <- recipe(Category ~ ., data=mcdonalds_train) |>
    step_scale(all_predictors()) |>
    step_center(all_predictors())


knn_spec <- nearest_neighbor(weight_func = "rectangular", neighbors = 3) |>
  set_engine("kknn") |>
  set_mode("classification")





### YOUR CODE HERE
knn_fit <- workflow() |>
    add_recipe(mcdonalds_recipe) |>
    add_model(knn_spec) |>
    fit(data=mcdonalds_train)





### REPLACE ALL ...
validation <- predict(knn_fit, mcdonalds_test) |>
    bind_cols(mcdonalds_test) |>
    rename(Category_pred = .pred_class)
head(validation, 5)


### REPLACE ALL ...
acc <- validation |>
  metrics(truth = Category, estimate = Category_pred) |>
  filter(.metric == "accuracy") |>
  select(.estimate) |>
  pull()

acc





### RUN THIS CELL

run_model <- function(k_value, train_data, test_data) {
      mcdonalds_recipe <- recipe(Category ~ ., data=train_data) |>
            step_scale(all_predictors()) |>
            step_center(all_predictors())

      knn_spec <- nearest_neighbor(weight_func = "rectangular", neighbors = k_value) |>
            set_engine("kknn") |>
            set_mode("classification")

      knn_fit <- workflow() |>
            add_recipe(mcdonalds_recipe) |>
            add_model(knn_spec) |>
            fit(data=mcdonalds_train)

      validation <- predict(knn_fit, mcdonalds_test) |>
            bind_cols(mcdonalds_test) |>
            rename(Category_pred = .pred_class)

      acc <- validation |>
            metrics(truth = Category, estimate = Category_pred) |>
            filter(.metric == "accuracy") |>
            select(.estimate) |>
            pull()
      
      acc

}


### TRY CHANGING THE FIRST ARGUMENT TO DIFFERENT NUMBERS

run_model(3, mcdonalds_train, mcdonalds_test)








### Extracting column names from `mcdonalds_train`
predictors_names <- colnames(mcdonalds_train)
col_names <- predictors_names[predictors_names != "Category"]
col_names <- as.list(col_names)


### Randomly generating 21 numeric values to be used as the nutritional information of the new recipe
set.seed(100)
mystery_item <-  data.frame(t(runif(21, min = 0, max = 20)))
colnames(mystery_item ) <- col_names
mystery_item 





predict(knn_fit, new_data = mystery_item)
