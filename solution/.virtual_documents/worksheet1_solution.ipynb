








# Load libraries

library(tidyverse)


# Read in the data

spotify <- read_csv("data/spotify_top_50_2023.csv")


# Create 'pop' column 

spotify <- spotify |> 
                mutate(pop = if_else(str_detect(genres, "pop"), "yes", "no"))


head(spotify)











dim(spotify) 





spotify |> 
    slice(35) |>
    select(artist_name, track_name)





pop_90 <- spotify |> 
            filter(popularity > 90)

pop_90


nrow(pop_90) 








spotify |>
    filter(danceability > 0.7 & pop == "yes") |> 
    arrange(by = desc(danceability))





# Filter for only Taylor Swift songs
spotify |>
    filter(artist_name == "Taylor Swift") 


# Compute the average danceability score using `summarize`
spotify |>
    filter(artist_name == "Taylor Swift") |>
    summarize(avg_dance_TS = mean(danceability))





spotify |>
     group_by(artist_name) |>
     summarize(avg_dance = mean(danceability)) |> 
     filter(artist_name == "Taylor Swift" | artist_name == "The Weeknd")





spotify |>
     group_by(pop) |>
     summarize(avg_popularity = mean(popularity))











ggplot(spotify, aes(x = popularity)) +
    geom_histogram(bins=25, fill = "cornflowerblue", color = "black") + 
    theme(text = element_text(size = 26)) + # increase text size
    labs(x='Popularity Score', y='Count', title='Popularity Score')








ggplot(spotify, aes(x = popularity, fill = pop)) +
    geom_histogram(bins=25, color = "black") +
    facet_grid(rows = vars(pop)) +
    theme(text = element_text(size = 26)) +
    labs(x='Popularity Score', y='Count', title='Histogram of Popularity Score ')








ggplot(spotify, aes(x = pop)) +
    geom_bar(fill = "cornflowerblue", color = "black") +
    theme(text = element_text(size = 26)) + 
    labs(x = 'Pop', y = 'Count', title = 'Barplot of Pop vs. Non-Pop Songs') 
  





options(repr.plot.width = 10, repr.plot.height = 8)

ggplot(spotify, aes(x = popularity, y = loudness)) + 
    geom_point(size=4) +
    theme(text = element_text(size = 26)) + 
    labs(x='Popularity Score', y='Loudness (dB)',title='Scatterplot of Loudness vs. Popularity') # rename axes and add title








spotify |> 
    arrange(desc(popularity)) |>
    slice(1) |>
    select(artist_name, track_name, popularity, loudness)


options(repr.plot.width = 10, repr.plot.height = 8)

ggplot(spotify, aes(x = popularity, y = loudness)) + 
    geom_point(size=4) +
    annotate("point", x = 99, y = -5.707, color = 'violet', size = 4) + 
    geom_text(x = 98, y = -5.4 , label = "Cruel Summer", color = "violet", size = 5) + # add text to plot
    theme(text = element_text(size = 26)) + 
    labs(x='Popularity Score', y='Loudness (dB)',title='Scatterplot of Loudness vs. Popularity') # rename axes and add title





popular_artists <- spotify |>
    group_by(artist_name) |> 
    summarize(track_count = n(), avg_popularity = mean(popularity)) |>
    filter(track_count > 1)

popular_artists
